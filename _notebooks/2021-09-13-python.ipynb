{
 "cells": [
  {
   "cell_type": "markdown",
   "metadata": {
    "tags": []
   },
   "source": [
    "# Function"
   ]
  },
  {
   "cell_type": "markdown",
   "metadata": {
    "tags": []
   },
   "source": [
    "## Defination of a function"
   ]
  },
  {
   "cell_type": "markdown",
   "metadata": {},
   "source": [
    "### sigmoid function (one input)"
   ]
  },
  {
   "cell_type": "code",
   "execution_count": 2,
   "metadata": {},
   "outputs": [
    {
     "data": {
      "text/plain": [
       "0.9525741268224334"
      ]
     },
     "execution_count": 2,
     "metadata": {},
     "output_type": "execute_result"
    }
   ],
   "source": [
    "import numpy as np  # instead of using math module, since math can only be applied to a scalar, not vector\n",
    "def basic_sigmoid(x):\n",
    "    '''\n",
    "    Compute sigmoid of x.\n",
    "    \n",
    "    Arguments:\n",
    "    x -- A scalar or vector\n",
    "    \n",
    "    Return:\n",
    "    s -- sigmoid\n",
    "    '''\n",
    "    \n",
    "    s = 1/(1+np.exp(-x))\n",
    "    \n",
    "    return s\n",
    "\n",
    "basic_sigmoid(3)"
   ]
  },
  {
   "cell_type": "code",
   "execution_count": 8,
   "metadata": {},
   "outputs": [
    {
     "data": {
      "text/plain": [
       "array([0.73105858, 0.88079708, 0.95257413])"
      ]
     },
     "execution_count": 8,
     "metadata": {},
     "output_type": "execute_result"
    }
   ],
   "source": [
    "x=np.array([1,2,3])\n",
    "basic_sigmoid(x)"
   ]
  },
  {
   "cell_type": "markdown",
   "metadata": {},
   "source": [
    "## print()"
   ]
  },
  {
   "cell_type": "code",
   "execution_count": 1,
   "metadata": {},
   "outputs": [
    {
     "name": "stdout",
     "output_type": "stream",
     "text": [
      "2\n"
     ]
    }
   ],
   "source": [
    "print(1+1)  # 没有引号，只可以放入数字或相关数字运算"
   ]
  },
  {
   "cell_type": "code",
   "execution_count": 2,
   "metadata": {},
   "outputs": [
    {
     "name": "stdout",
     "output_type": "stream",
     "text": [
      "Hello word\n"
     ]
    }
   ],
   "source": [
    "print('Hello word') # 单引号，引号内部输入什么即打印什么"
   ]
  },
  {
   "cell_type": "code",
   "execution_count": 3,
   "metadata": {},
   "outputs": [
    {
     "name": "stdout",
     "output_type": "stream",
     "text": [
      "Let's go!\n"
     ]
    }
   ],
   "source": [
    "print(\"Let's go!\") # 双引号，作用与单引号相同，并且可以打印出其内部的单引号"
   ]
  },
  {
   "cell_type": "code",
   "execution_count": 5,
   "metadata": {},
   "outputs": [
    {
     "name": "stdout",
     "output_type": "stream",
     "text": [
      "yes,ok,\n",
      "i will do that\n"
     ]
    }
   ],
   "source": [
    "print('''yes,ok,\n",
    "i will do that''')  # 三引号，可以实现换行"
   ]
  },
  {
   "cell_type": "code",
   "execution_count": null,
   "metadata": {},
   "outputs": [],
   "source": [
    "# 'end='对打印内容结尾进行控制：\n",
    "print ('hello', end='')\n",
    "print('world')\n",
    "# >> helloworld\n",
    "print ('hello', end=' ')\n",
    "print('world')\n",
    "# >> hello world\n",
    "print ('hello', end='!') #单引号里面可以是任意内容\n",
    "print('world')\n",
    "# >> hello!world"
   ]
  },
  {
   "cell_type": "code",
   "execution_count": 1,
   "metadata": {},
   "outputs": [
    {
     "name": "stdout",
     "output_type": "stream",
     "text": [
      "the number is :50\n"
     ]
    }
   ],
   "source": [
    "a=50\n",
    "print(\"the number is :\" + str(a))"
   ]
  },
  {
   "cell_type": "markdown",
   "metadata": {},
   "source": [
    "## range()\n",
    "\n",
    "```\n",
    "range(start, stop, step)\n",
    "```\n",
    "* start: optional, an integer number, default is 0.\n",
    "* stop: required, an integer number <font color='red'> (not included)\n",
    "* step: optional, an integer number, default is 1.\n",
    "\n"
   ]
  },
  {
   "cell_type": "code",
   "execution_count": 20,
   "metadata": {},
   "outputs": [
    {
     "name": "stdout",
     "output_type": "stream",
     "text": [
      "3\n",
      "4\n",
      "5\n"
     ]
    }
   ],
   "source": [
    "x = range(3,6)\n",
    "for n in x:\n",
    "    print(n)"
   ]
  },
  {
   "cell_type": "markdown",
   "metadata": {},
   "source": [
    "## isinstance()\n",
    "\n",
    "* **isinstance(object, classinfo)**\n",
    "\n",
    "判断object是否是classinfo的类型，如果不是返回False"
   ]
  },
  {
   "cell_type": "markdown",
   "metadata": {
    "tags": []
   },
   "source": [
    "# module"
   ]
  },
  {
   "cell_type": "markdown",
   "metadata": {},
   "source": [
    "## math"
   ]
  },
  {
   "cell_type": "markdown",
   "metadata": {},
   "source": [
    "### math.exp()\n",
    "\n",
    "The math.exp() method returns E raised to the power of x (Ex). But x can only be a scalar.\n",
    "\n",
    "'E' is the base of the natural system of logarithms (approximately 2.718282) and x is the number passed to it."
   ]
  },
  {
   "cell_type": "markdown",
   "metadata": {
    "tags": []
   },
   "source": [
    "## numpy"
   ]
  },
  {
   "cell_type": "markdown",
   "metadata": {},
   "source": [
    "### np.array()"
   ]
  },
  {
   "cell_type": "code",
   "execution_count": 14,
   "metadata": {},
   "outputs": [
    {
     "name": "stdout",
     "output_type": "stream",
     "text": [
      "[1 2 4]\n",
      "[[1 2 3]\n",
      " [4 5 6]]\n"
     ]
    }
   ],
   "source": [
    "a = np.array([1,2,4])  # 创建一维数组\n",
    "b = np.array([[1,2,3],[4,5,6]])  # 创建二维数组\n",
    "print (a)\n",
    "print (b)"
   ]
  },
  {
   "cell_type": "markdown",
   "metadata": {},
   "source": [
    "### np.exp()\n",
    "\n",
    "- np.exp(x) works for any np.array x and applies the exponential function to every coordinate"
   ]
  },
  {
   "cell_type": "markdown",
   "metadata": {},
   "source": [
    "### np.shape\n",
    "X.shape -- get the shape of X created by np.array\\\n",
    "\n",
    "```\n",
    "X.shape[0] -- 行\n",
    "X.shape[1] -- 列\n",
    "X.shape[2] -- 维度\n",
    "```"
   ]
  },
  {
   "cell_type": "code",
   "execution_count": 3,
   "metadata": {},
   "outputs": [
    {
     "data": {
      "text/plain": [
       "(2, 3, 4)"
      ]
     },
     "execution_count": 3,
     "metadata": {},
     "output_type": "execute_result"
    }
   ],
   "source": [
    "x = np.zeros((2,3,4))\n",
    "x.shape"
   ]
  },
  {
   "cell_type": "markdown",
   "metadata": {},
   "source": [
    "### np.reshape\n",
    "X.reshape -- reshape X into some other dimension\n",
    "\n",
    "* When you want to flatten a matrix X of shape(a,b,c,d) to a matrix X_flatten of shape(b*c*d,a),use:\\\n",
    "```X_flatten = X.reshape(X.shape[0],-1).T```"
   ]
  },
  {
   "cell_type": "markdown",
   "metadata": {},
   "source": [
    "### np.zeros\n"
   ]
  },
  {
   "cell_type": "code",
   "execution_count": 5,
   "metadata": {},
   "outputs": [
    {
     "data": {
      "text/plain": [
       "array([0., 0., 0., 0., 0.])"
      ]
     },
     "execution_count": 5,
     "metadata": {},
     "output_type": "execute_result"
    }
   ],
   "source": [
    "np.zeros(5)"
   ]
  },
  {
   "cell_type": "code",
   "execution_count": 6,
   "metadata": {},
   "outputs": [
    {
     "data": {
      "text/plain": [
       "array([[0., 0.],\n",
       "       [0., 0.]])"
      ]
     },
     "execution_count": 6,
     "metadata": {},
     "output_type": "execute_result"
    }
   ],
   "source": [
    "s=(2,2)\n",
    "np.zeros(s)"
   ]
  },
  {
   "cell_type": "code",
   "execution_count": 8,
   "metadata": {},
   "outputs": [
    {
     "data": {
      "text/plain": [
       "array([[[0., 0., 0., 0.],\n",
       "        [0., 0., 0., 0.],\n",
       "        [0., 0., 0., 0.]],\n",
       "\n",
       "       [[0., 0., 0., 0.],\n",
       "        [0., 0., 0., 0.],\n",
       "        [0., 0., 0., 0.]]])"
      ]
     },
     "execution_count": 8,
     "metadata": {},
     "output_type": "execute_result"
    }
   ],
   "source": [
    "np.zeros([2,3,4]) # 2维数组，3行4列"
   ]
  },
  {
   "cell_type": "markdown",
   "metadata": {},
   "source": [
    "### np.linalg.norm\n",
    "\n",
    "**linalg.norm (x, ord=None, axis=None, keepdims = False)**\n",
    "\n",
    "默认情况可以求一维或二维矩阵输入的2范数（距离）\n",
    "\n",
    "For example, if \n",
    "$$ x = \\begin{bmatrix}0 & 3 & 4 \\\\ 2&6&4\\\\ \\end{bmatrix}$$\n",
    "\n",
    "then \n",
    "$$\\Vert x \\Vert = np.linalg.norm(x,axis=1,keepdims=True)= \\begin{bmatrix}5\\\\\\sqrt{56}\\\\ \\end{bmatrix}$$"
   ]
  },
  {
   "cell_type": "markdown",
   "metadata": {},
   "source": [
    "### np.sum\n",
    "\n",
    "```\n",
    "x = np.array([\n",
    "    [9,2,5,0,0],\n",
    "    [7,5,0,0,0],])\n",
    "\n",
    ">> np.sum(x)\n",
    "28\n",
    "\n",
    ">> np.sum(x,axis=1)\n",
    "array([16, 12])\n",
    "\n",
    ">> np.sum(x,axis=1,keepdims=True)\n",
    "array([[16],\n",
    "       [12]])\n",
    "       \n",
    ">> np.sum(x, axis=0, keepdims=True)\n",
    "array([[16,  7,  5,  0,  0]])\n",
    "\n",
    ">> np.sum(x, axis=0)\n",
    "array([16,  7,  5,  0,  0])\n",
    "```"
   ]
  },
  {
   "cell_type": "markdown",
   "metadata": {},
   "source": [
    "### np.dot & np.multiply\n",
    "\n",
    "$$ \n",
    "x1 = \n",
    "\\begin{bmatrix}\n",
    "1&0&3\\\\\n",
    "5&1&2\\\\\n",
    "3&5&7\n",
    "\\end{bmatrix}\\\\    x2=\n",
    "\\begin{bmatrix}\n",
    "1&2&1\\\\\n",
    "5&7&9\\\\\n",
    "3&6&1\n",
    "\\end{bmatrix}\n",
    "$$\n",
    " \n",
    "```\n",
    ">> np.dot(x1,x2) #相当于线性代数中的两个矩阵相乘\n",
    "[[10 20  4]\n",
    " [16 29 16]\n",
    " [49 83 55]]\n",
    " \n",
    ">> np.multiply(x1,x2) (==x1*x2)  #相当于每个元素分别相乘\n",
    "[[ 1  0  3]\n",
    " [25  7 18]\n",
    " [ 9 30  7]]\n",
    "```"
   ]
  },
  {
   "cell_type": "markdown",
   "metadata": {},
   "source": [
    "### np.squeeze\n",
    "\n",
    "* **np.squeeze(a, axis=None)**\n",
    "\n",
    "**Arguments:**\n",
    "\n",
    "a -- input data (*array_like*)\\\n",
    "axis -- 指定要删除的维度（所指定的维度一定是单维度，否则报错），如果不输入则删除所有单维度条目\n",
    "\n",
    "**Return**\n",
    "\n",
    "从shape中删去单维度的条目，不改变原数组\n",
    "\n",
    "<font color='blue'>**Example 1**</font>\n",
    "\n",
    "```>> x = np.array([[[0],[1],[2]]])```\\\n",
    "```>> x.shape```\n",
    "```\n",
    "shape (1,3,1)\n",
    "```\n",
    "\n",
    "```>> np.squeeze(x).shape```\n",
    "```\n",
    "shape(3,)\n",
    "x : [0 1 2]\n",
    "```\n",
    "```>> np.squeeze(x,axis=0).shape```\n",
    "```\n",
    "shape(3,1)\n",
    "x:\n",
    "[[0]\n",
    " [1]\n",
    " [2]]\n",
    "```\n",
    "\n",
    "```>> np.squeeze(x,axis=2).shape```\n",
    "```\n",
    "shape (1,3)\n",
    "x: [[0 1 2]]\n",
    "```"
   ]
  },
  {
   "cell_type": "markdown",
   "metadata": {},
   "source": [
    "### np.random\n",
    "---\n",
    "\n",
    "<font color=\"blue\">**1. np.random.rand(d0,d1,...,dn)**</font>   \n",
    "**产生[0,1)之间均匀分布的随机浮点数，其中d0,d1,...dn表示传入的数组形状**\n",
    "\n",
    "**Example 1**\\\n",
    "`>> temp = np.random.rand()`\\\n",
    "`>> print(temp)`\\\n",
    "`>> print(type(temp))`\n",
    "```\n",
    "0.6016642464918792\n",
    "<class 'float'>\n",
    "```\n",
    "**Example 2**\\\n",
    "`>> temp = np.random.rand(2)`\\\n",
    "`>> print(temp)`\\\n",
    "`>> print(temp.shape)`\\\n",
    "`>> print(type(temp))`\\\n",
    "`>> print(temp[0])`\\\n",
    "`>> print(type(temp[0]))`\n",
    "```\n",
    "[0.94423329 0.95140846]\n",
    "(2,)\n",
    "<class 'numpy.ndarray'>\n",
    "0.9442332938041855\n",
    "<class 'numpy.float64'>\n",
    "```\n",
    "**Example 3**\\\n",
    "`>> temp = np.random.rand(2,4)`\\\n",
    "`>> print(temp)`\\\n",
    "`>> print(type(temp))`\\\n",
    "```\n",
    "[[0.85210417 0.68848123 0.97418809 0.28987711]\n",
    " [0.45276255 0.28363567 0.9562567  0.56316272]]\n",
    "<class 'numpy.ndarray'>\n",
    "```\n",
    "\n",
    "<font color=\"blue\">**2. np.random.randn(d0,d1,...,dn)**</font>\\\n",
    "**从标准正态分布（均值为0，方查为1）种返回一个或者多个样本值**\\\n",
    "`>> temp = np.random.randn(2,4)`\n",
    "```\n",
    "[[ 0.30924038  0.71251392  1.04723464  1.28983321]\n",
    " [-0.15245082  0.04350479 -0.8631161   0.4580241 ]]\n",
    "<class 'numpy.ndarray'>\n",
    "```\n",
    "\n",
    "<font color=\"blue\">**3. np.random.random()**</font>\\\n",
    "**返回随机生成的一个实数（浮点数），范围[0,1)**\n",
    "\n",
    "**Example 1**\n",
    "`>> temp = np.random.random((5,1))`\\\n",
    "`>> print(temp)`\\\n",
    "`>> print(temp.shape)`\n",
    "```\n",
    "[[0.82712084]\n",
    " [0.57638178]\n",
    " [0.0536726 ]\n",
    " [0.99159614]\n",
    " [0.88162051]]\n",
    "(5, 1)\n",
    "```\n",
    "**Example 2**\\\n",
    "`>> temp = np.random.random((5,))`\\\n",
    "`>> print(temp)`\\\n",
    "`>> print(temp.shape)`\n",
    "```\n",
    "[0.68391936 0.31783339 0.32432325 0.27148257 0.66795924]\n",
    "(5,)\n",
    "```\n",
    "\n",
    "<font color=\"red\">**Difference between rand and random**</font>\n",
    "* **random:  Return random floats in the half-open interval ``[0, 1)``**\n",
    "* **rand:  Create an array of the given shape and populate it with  random samples from a uniform distribution  over ``[0, 1)``**\n",
    "\n",
    "<font color=\"blue\">**4. np.random.seed()**</font>\\\n",
    "**如果在seed()中传入的数字相同，那么接下来生成的随机数序列相同，仅作用于最接近的那句随机数产生的语句**\n",
    "\n",
    "`>> np.random.seed(10)`\\\n",
    "`>> temp1 = np.random.rand(4)`\\\n",
    "`>> print(temp1)`\\\n",
    "`>> print(temp1.shape)`\\\n",
    "`>> np.random.seed(10)`\\\n",
    "`>> temp2 = np.random.rand(4)`\\\n",
    "`>> print(temp2)`\\\n",
    "`>> temp3 = np.random.rand(4)`\\\n",
    "`>> print(temp3)`\n",
    "\n",
    "\n",
    "```\n",
    "[0.77132064 0.02075195 0.63364823 0.74880388]\n",
    "(4,)\n",
    "[0.77132064 0.02075195 0.63364823 0.74880388]\n",
    "[0.49850701 0.22479665 0.19806286 0.76053071]\n",
    "```"
   ]
  },
  {
   "cell_type": "markdown",
   "metadata": {},
   "source": [
    "### np.arange()\n",
    "\n",
    "`>> np.arange(3)`\n",
    "```\n",
    "array([0,1,2])\n",
    "```\n",
    "\n",
    "`>> np.arange(3,7)`\n",
    "```\n",
    "array([3,4,5,6])\n",
    "```\n",
    "\n",
    "`>> np.arange(3.0)`\n",
    "```\n",
    "array([0.,1.,2.])\n",
    "```\n",
    "\n",
    "`>> np.arange(3,9,2)`\n",
    "```\n",
    "array([3,5,7])\n",
    "```"
   ]
  },
  {
   "cell_type": "markdown",
   "metadata": {},
   "source": [
    "### np.r_ & np.c_\n",
    "\n",
    "* **np.r_[ ]**  ： 将矩阵上下连接，所连接矩阵必须列数相同\n",
    "* **np.c_[ ]**  ： 将矩阵左右连接，所连接矩阵必须行数相同\n",
    "\n",
    "---\n",
    "<font color=\"blue\">**Example 1**</font>\n",
    "```\n",
    "a = np.array([[1,2,3],[7,8,9]])\n",
    "b = np.array([[8,9,8],[5,6,2]])\n",
    "\n",
    "c = np.r_[a,b]\n",
    "d = np.c_[b,a]\n",
    "print(c)\n",
    "print(d)\n",
    "```\n",
    "\n",
    "```>>>\\\n",
    "[[1 2 3]\n",
    " [7 8 9]\n",
    " [8 9 8]\n",
    " [5 6 2]]\n",
    "[[8 9 8 1 2 3]\n",
    " [5 6 2 7 8 9]]\n",
    "```\n",
    "---\n",
    "<font color=\"blue\">**Example 2**</font>\n",
    "```\n",
    "r1 = np.random.randn(10)\n",
    "r2 = np.random.randn(10)\n",
    "t = np.c_[r1,r2]\n",
    "print(r1)\n",
    "print(r2)\n",
    "print(t)\n",
    "```\n",
    "\n",
    "```\n",
    "[ 0.83231214 -1.07181677  0.69561514  1.59965471  0.46993193 -1.56874085\n",
    " -0.61134517 -1.54078379 -1.23261359 -0.27063549]\n",
    "[ 1.25877303  1.35196261  2.15529763  0.54566689 -0.96597915  1.25988058\n",
    " -0.85154339 -0.1944871   0.20832303  0.29113869]\n",
    "[[ 0.83231214  1.25877303]\n",
    " [-1.07181677  1.35196261]\n",
    " [ 0.69561514  2.15529763]\n",
    " [ 1.59965471  0.54566689]\n",
    " [ 0.46993193 -0.96597915]\n",
    " [-1.56874085  1.25988058]\n",
    " [-0.61134517 -0.85154339]\n",
    " [-1.54078379 -0.1944871 ]\n",
    " [-1.23261359  0.20832303]\n",
    " [-0.27063549  0.29113869]]\n",
    "```"
   ]
  },
  {
   "cell_type": "markdown",
   "metadata": {},
   "source": [
    "### np.ravel\n",
    "\n",
    "**np.ravel (a, order='C')**\n",
    "* input\\\n",
    "a---input array, the elements in a are read in the order specified by order.\\\n",
    "order---{'C','F','A','K'}，optional. Default is'C'. 'C' means to index the elements in row-major. 'F' means to index the elements in column-major. \n",
    "\n",
    "* Return:\\\n",
    "y---A 1-D array\n",
    "\n",
    "* It's equivalent to reshape(-1, order=order)\n",
    "\n",
    "```\n",
    "a = np.array([[1,2,3],[7,8,9]])\n",
    "temp1 = np.ravel(a)\n",
    "temp2 = np.ravel(a,order='F')\n",
    "print(temp1)\n",
    "print(temp2)\n",
    "```\n",
    "```\n",
    ">>> [1 2 3 7 8 9]\n",
    ">>> [1 7 2 8 3 9]\n",
    "```"
   ]
  },
  {
   "cell_type": "markdown",
   "metadata": {},
   "source": [
    "### np.linspace\n",
    "\n",
    "**np.linspace(start, stop, num=50, endpoint=True, retstep=False, dtype=None, axis=0)**\n",
    "\n",
    "`>> np.linspace(2.0, 3.0, num=5)`\n",
    "```\n",
    "array([2.  , 2.25, 2.5 , 2.75, 3.  ])\n",
    "```\n",
    "`>> np.linspace(2.0, 3.0, num=5, endpoint=False)`\n",
    "```\n",
    "array([2. , 2.2, 2.4, 2.6, 2.8])\n",
    "```\n",
    "`>> np.linspace(2.0, 3.0, num=5, retstep=True)`\n",
    "```\n",
    "(array([2.  , 2.25, 2.5 , 2.75, 3.  ]), 0.25)\n",
    "```"
   ]
  },
  {
   "cell_type": "markdown",
   "metadata": {},
   "source": [
    "## time"
   ]
  },
  {
   "cell_type": "markdown",
   "metadata": {},
   "source": [
    "### time.process()\n",
    "\n",
    "```\n",
    "tic = time.process_time()\n",
    "toc = time.process_time()\n",
    "\n",
    "run time = (toc-tic)*1000 ms\n"
   ]
  },
  {
   "cell_type": "markdown",
   "metadata": {},
   "source": [
    "## h5py\n",
    "\n",
    "**A common package to interact with a dataset that is stored on an H5 file**\n",
    "\n",
    "\n",
    "- **Create a HDF5 file**\n",
    "\n",
    "\n",
    "\n",
    "```>> f = h5py.File('mytestfile.hdf5', 'w')```\n",
    "\n",
    "\n",
    "\n",
    "- **Open the HDF5 file for reading**\n",
    "\n",
    "\n",
    "```>> f = h5py.File('mytestfile.hdf5'，'r')```\n",
    "\n",
    "\n",
    "- **Create detaset**\n",
    "\n",
    "\n",
    "```>> dset = f.create_dateset(\"name\",(shape)，'dtype') , name and shape should be spexified, data type is optional, defaults to 'f'```\n",
    "\n",
    "**<font color='blue'>Example1:</font>**\n",
    "\n",
    "```\n",
    "f = h5py.File('mytestfile.hdf5', 'w')\n",
    "d1 = f.create_dateset(\"dset1\",(20,)，'i')  \n",
    "for key in f.keys():\n",
    "    print(key)\n",
    "    print(f[key].name)\n",
    "    print(f[key].shape)\n",
    "    print(f[key][()])\n",
    "output:\n",
    "1.dset1\n",
    "2./dset1\n",
    "3.(20,)\n",
    "4.[0 0 0 0 0 0 0 0 0 0 0 0 0 0 0 0 0 0 0 0]\n",
    "```\n",
    "\n",
    "**<font color='blue'>Example2:</font>**\n",
    "\n",
    "```\n",
    "f = h5py.File(\"test2.hdf5\",\"w\")\n",
    "a = np.arange(10)\n",
    "d1 = f.create_dataset(\"dset1\",data=a)\n",
    "for key in f.keys():\n",
    "    print(f[key].name)\n",
    "    print(f[key][()])\n",
    "output:\n",
    "1./dset1\n",
    "2.[0 1 2 3 4 5 6 7 8 9]\n",
    "```\n",
    "\n",
    "- **Create group**\n",
    "\n",
    "```>> grp = f.create_group(\"name\")```\n",
    "\n",
    "**<font color='blue'>Example1:</font>**\n",
    "\n",
    "```\n",
    "f = h5py.File(\"test3.hdf5\",\"w\")\n",
    "g1 = f.create_group(\"bar\")\n",
    "g1[\"dset1\"]=np.arange(10)\n",
    "g1[\"dset2\"]=np.arange(12).reshape(3,4)\n",
    "for key in g1.keys():\n",
    "    print(g1[key].name)\n",
    "    print(g1[key][()])\n",
    "output:\n",
    "1. /bar/dset1\n",
    "2. [0 1 2 3 4 5 6 7 8 9]\n",
    "3. /bar/dset2\n",
    "4.\n",
    "[[ 0  1  2  3]\n",
    " [ 4  5  6  7]\n",
    " [ 8  9 10 11]]\n",
    " ```"
   ]
  },
  {
   "cell_type": "markdown",
   "metadata": {},
   "source": [
    "## scipy"
   ]
  },
  {
   "cell_type": "markdown",
   "metadata": {},
   "source": [
    "### scipy.ndimage\n",
    "\n",
    "```scipy.ndimage.imread```\n",
    "\n",
    "**parameters**\n",
    "* fname -- str or file object\n",
    "* flatten -- if True, flattens the color layers into a single gray-scale layer\n",
    "* mode -- mode to convert image to, e.g.'RGB'.\n",
    "\n",
    "**Returns**\n",
    "* The array obtained by reading the image.\n",
    "\n",
    "***<font color='blue'>mode</font>***\n",
    "\n",
    "- ‘L’ (8-bit pixels, black and white)\n",
    "- ‘P’ (8-bit pixels, mapped to any other mode using a color palette)\n",
    "- ‘RGB’ (3x8-bit pixels, true color)\n",
    "- ‘RGBA’ (4x8-bit pixels, true color with transparency mask)\n",
    "- ‘CMYK’ (4x8-bit pixels, color separation)\n",
    "- ‘YCbCr’ (3x8-bit pixels, color video format)\n",
    "- ‘I’ (32-bit signed integer pixels)  \n",
    "-  ‘F’ (32-bit floating point pixels)"
   ]
  },
  {
   "cell_type": "markdown",
   "metadata": {},
   "source": [
    "## matplotlib.pyplot"
   ]
  },
  {
   "attachments": {
    "834099b2-037c-4487-a08e-67d0c8dc829a.png": {
     "image/png": "[encoded data removed]"
    }
   },
   "cell_type": "markdown",
   "metadata": {},
   "source": [
    "### plt.contour\n",
    "\n",
    "___\n",
    "**<font color='blue'>Example 1**\n",
    "```\n",
    "import numpy as np\n",
    "import matplotlib.cm as cm\n",
    "import matplotlib.pyplot as plt\n",
    "\n",
    "\n",
    "delta = 0.025\n",
    "x = np.arange(-3.0, 3.0, delta)\n",
    "y = np.arange(-2.0, 2.0, delta)\n",
    "X, Y = np.meshgrid(x, y)\n",
    "Z1 = np.exp(-X**2 - Y**2)\n",
    "Z2 = np.exp(-(X - 1)**2 - (Y - 1)**2)\n",
    "Z = (Z1 - Z2) * 2\n",
    "fig, ax = plt.subplots()\n",
    "CS = ax.contour(X, Y, Z)\n",
    "ax.clabel(CS, inline=True, fontsize=10)\n",
    "ax.set_title('Simplest default with labels')\n",
    "\n",
    "```\n",
    "![image.png](attachment:834099b2-037c-4487-a08e-67d0c8dc829a.png)\n",
    "\n",
    " "
   ]
  },
  {
   "attachments": {
    "4f934ea2-0f4c-42dc-906e-1bbc1d24b7bd.png": {
     "image/png": "[encoded data removed]"
    }
   },
   "cell_type": "markdown",
   "metadata": {},
   "source": [
    "### plt.clabel\n",
    "\n",
    "* **Label a contour plot.** \n",
    "\n",
    "**<font color='blue'>plt.clabel (CS, levels=None, \\*\\*kwargs)**\n",
    "\n",
    "**Parameters**\n",
    "   \n",
    ">CS: contourSet instance\n",
    ">levels: array-like, optional\\\n",
    ">**kwargs: all other parameters are documented in [clabel documents](https://matplotlib.org/stable/api/contour_api.html#matplotlib.contour.ContourLabeler.clabel)\n",
    "\n",
    "___\n",
    "    \n",
    "**<font color='blue'>Example 1</font>**\n",
    "```\n",
    "fig, ax = plt.subplots()\n",
    "CS = ax.contour(X, Y, Z)\n",
    "ax.clabel(CS, inline=True, fontsize=10)  #inline=True 为default,代表将label下面的线去掉\n",
    "ax.set_title('Simplest default with labels')\n",
    "```\n",
    "![image.png](attachment:4f934ea2-0f4c-42dc-906e-1bbc1d24b7bd.png)"
   ]
  },
  {
   "cell_type": "markdown",
   "metadata": {},
   "source": [
    "## sklearn"
   ]
  },
  {
   "cell_type": "markdown",
   "metadata": {},
   "source": [
    "### datasets\n",
    "\n",
    "* **<font color='blue'>sklearn.datasets.make_$\\to\\$ 构造数据集</font>**\n",
    "\n",
    "`sklearn.datasets.make_circles(n_samples = 100, shuffle = True, noise = None, random_state = None, factor=0.8)`\n",
    ">**Parameters**\\\n",
    ">**n_samples:** int, optional(default=100)\\\n",
    ">**shuffle:** 是否洗牌，bool, optional, default=True\\\n",
    ">**noise:** float, default=None, Standard deviation of Gaussian noise added to the data\\\n",
    ">**random_state:** int, default=None, 确定数据集重排和噪声的随机数生成，传递一个int, 用于跨多个函数调用的可重现输出。\\\n",
    ">**factor:** float, default=.8, 内圈和外圈之间的比例因子,（0，1）之间\\\n",
    ">\n",
    ">**Returns**\\\n",
    ">**X:** ndarray of shape(n_sample,2), the generated samples.\\\n",
    ">**y:** ndarray of shape(n_sample,), the integer labels(0 or 1) for class membership of each sample\n",
    "\n",
    "`sklearn.datasets.make_moons(n_samples = 100, shuffle = True, noise = None, random_state = None)`\n",
    "\n",
    "`sklearn.datasets.make_blobs(n_samples = 100, n_features=2, centers=None, cluster_std=1.0, center_box=(-10.0,10.0)， shuffle = True, random_state = None)`"
   ]
  },
  {
   "cell_type": "markdown",
   "metadata": {},
   "source": [
    "# other knowledge"
   ]
  },
  {
   "cell_type": "markdown",
   "metadata": {},
   "source": [
    "## list和array的区别\n",
    "\n",
    "list: python的内置数据类型，其中的数据类型不必相同，list中数据类型保存的是数据存放的地址（指针），并非数据，因此增加了存储量\\\n",
    "array：numpy中封装的，存放相同类型的数据\n",
    "\n",
    "b = np.array(a)  # 将列表转换为数组（a为列表，b为数组）"
   ]
  },
  {
   "cell_type": "markdown",
   "metadata": {},
   "source": [
    "## 添加模块路径到sys.path中\n",
    "\n",
    "```\n",
    "import sys\n",
    "import os\n",
    "sys.path.append(os.path.dirname(\"Deep Learning/week 2/Ir_utils.py\"))\n",
    "```"
   ]
  },
  {
   "cell_type": "markdown",
   "metadata": {},
   "source": [
    "## assert\n",
    "\n",
    "* **assert expression**\\\n",
    "用于判断一个表达式，在表达式为false的时候触发异常"
   ]
  },
  {
   "cell_type": "markdown",
   "metadata": {},
   "source": [
    "## %load_ext autoreload\n",
    "\n",
    "* **写在执行用户代码前，重新装入软件的扩展和模块**\n",
    "\n",
    "`%aotureload 2`\\\n",
    "**参数意义**\n",
    ">0:不执行 装入命令\\\n",
    ">1:只装入所有 %aimport 要装模块\\\n",
    ">2:装入所有%aimport不包含的模块"
   ]
  },
  {
   "cell_type": "markdown",
   "metadata": {},
   "source": [
    "### linear_model\n",
    "\n",
    "1. linear_model.LogisticRegression()-----没有交叉验证，需要自己每次指定一个正则化系数\n",
    "\n",
    "2. linear_model.LogisticRegressionCV()-----使用了交叉验证来选择正则化系数\n",
    "\n",
    "\n"
   ]
  },
  {
   "cell_type": "code",
   "execution_count": null,
   "metadata": {},
   "outputs": [],
   "source": []
  }
 ],
 "metadata": {
  "kernelspec": {
   "display_name": "Python 3",
   "language": "python",
   "name": "python3"
  },
  "language_info": {
   "codemirror_mode": {
    "name": "ipython",
    "version": 3
   },
   "file_extension": ".py",
   "mimetype": "text/x-python",
   "name": "python",
   "nbconvert_exporter": "python",
   "pygments_lexer": "ipython3",
   "version": "3.8.8"
  },
  "toc": {
   "base_numbering": 1,
   "nav_menu": {},
   "number_sections": true,
   "sideBar": true,
   "skip_h1_title": false,
   "title_cell": "Table of Contents",
   "title_sidebar": "Contents",
   "toc_cell": false,
   "toc_position": {
    "height": "757px",
    "left": "821px",
    "top": "110px",
    "width": "384px"
   },
   "toc_section_display": true,
   "toc_window_display": true
  },
  "toc-autonumbering": true,
  "toc-showcode": false,
  "toc-showmarkdowntxt": false,
  "toc-showtags": false
 },
 "nbformat": 4,
 "nbformat_minor": 4
}
